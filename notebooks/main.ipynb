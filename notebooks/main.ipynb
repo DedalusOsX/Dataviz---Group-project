{
 "cells": [
  {
   "cell_type": "code",
   "execution_count": 4,
   "metadata": {},
   "outputs": [],
   "source": [
    "# Core data libraries\n",
    "import pandas as pd\n",
    "import numpy as np\n",
    "\n",
    "# Static visualizations\n",
    "import matplotlib.pyplot as plt\n",
    "import seaborn as sns\n",
    "\n",
    "# Interactive plots\n",
    "import plotly.express as px\n",
    "import plotly.graph_objects as go\n",
    "import altair as alt\n",
    "\n",
    "# Dashboard & widgets\n",
    "import ipywidgets as widgets\n",
    "from IPython.display import display, Markdown\n",
    "\n",
    "# Optional: Map visualizations\n",
    "import folium\n",
    "import geopandas as gpd\n",
    "\n",
    "# Plotting themes\n",
    "sns.set_theme(style=\"whitegrid\", palette=\"muted\")  # Seaborn theme\n",
    "plt.rcParams[\"figure.figsize\"] = (10, 6)            # Matplotlib default size\n",
    "alt.themes.enable(\"default\")                        # Altair theme\n",
    "\n",
    "# Jupyter display tweaks\n",
    "%matplotlib inline"
   ]
  }
 ],
 "metadata": {
  "kernelspec": {
   "display_name": "Python (dataviz-env)",
   "language": "python",
   "name": "dataviz-env"
  },
  "language_info": {
   "codemirror_mode": {
    "name": "ipython",
    "version": 3
   },
   "file_extension": ".py",
   "mimetype": "text/x-python",
   "name": "python",
   "nbconvert_exporter": "python",
   "pygments_lexer": "ipython3",
   "version": "3.12.3"
  }
 },
 "nbformat": 4,
 "nbformat_minor": 2
}
