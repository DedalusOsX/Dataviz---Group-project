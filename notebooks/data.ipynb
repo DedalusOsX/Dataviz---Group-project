{
 "cells": [
  {
   "cell_type": "code",
   "execution_count": 6,
   "metadata": {},
   "outputs": [
    {
     "name": "stdout",
     "output_type": "stream",
     "text": [
      "['../data/gdp/gdp-per-capita-worldbank.csv', '../data/urbanization/urban-and-rural-population-2050.csv', '../data/education/world-population-level-education.csv', '../data/inet/inet_share/share-of-individuals-using-the-internet.csv', '../data/inet/ict/ict-adoption.csv', '../data/demography/demo_female.csv', '../data/demography/demo_male.csv', '../data/demography/death-rate.csv', '../data/demography/birth-rate.csv', '../data/electricity/electr_prod/electricity-prod-source-stacked.csv', '../data/electricity/electr_access/share-of-the-population-with-access-to-electricity.csv', '../data/co2/annual-co2-emissions-per-country.csv']\n"
     ]
    }
   ],
   "source": [
    "import pandas as pd\n",
    "import os\n",
    "import glob\n",
    "import seaborn as sns\n",
    "import matplotlib.pyplot as plt\n",
    "\n",
    "sns.set_theme(style=\"whitegrid\")\n",
    "\n",
    "csv_files = glob.glob(\"../data/**/*.csv\", recursive=True)\n",
    "print(csv_files)\n"
   ]
  }
 ],
 "metadata": {
  "kernelspec": {
   "display_name": "Python (dataviz-env)",
   "language": "python",
   "name": "dataviz-env"
  },
  "language_info": {
   "codemirror_mode": {
    "name": "ipython",
    "version": 3
   },
   "file_extension": ".py",
   "mimetype": "text/x-python",
   "name": "python",
   "nbconvert_exporter": "python",
   "pygments_lexer": "ipython3",
   "version": "3.12.3"
  }
 },
 "nbformat": 4,
 "nbformat_minor": 2
}
